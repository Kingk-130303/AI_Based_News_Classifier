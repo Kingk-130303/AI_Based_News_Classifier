{
 "cells": [
  {
   "cell_type": "code",
   "execution_count": 99,
   "metadata": {},
   "outputs": [],
   "source": [
    "# Packages needed for to store data\n",
    "\n",
    "import lab_utils\n",
    "import tensorflow as tf\n",
    "import pandas as pd\n",
    "from sklearn.model_selection import train_test_split"
   ]
  },
  {
   "cell_type": "code",
   "execution_count": 100,
   "metadata": {},
   "outputs": [
    {
     "name": "stdout",
     "output_type": "stream",
     "text": [
      "base directory: ./E1\n",
      "\n",
      "data: ./E1/data\n",
      "model: ./E1/model\n",
      "vocab: ./E1/vocab\n",
      "\n"
     ]
    }
   ],
   "source": [
    "# Working folder for the experiment (old model)\n",
    "BASE_DIR = './E1'\n",
    "\n",
    "# Get the subdirectories that contain the experiment files\n",
    "data_dir, model_dir, vocab_dir = lab_utils.set_experiment_dirs(BASE_DIR)\n",
    "\n",
    "print(\n",
    "    f'base directory: {BASE_DIR}\\n\\n'\n",
    "    f'data: {data_dir}\\n'\n",
    "    f'model: {model_dir}\\n'\n",
    "    f'vocab: {vocab_dir}\\n'\n",
    ")"
   ]
  },
  {
   "cell_type": "code",
   "execution_count": 101,
   "metadata": {},
   "outputs": [
    {
     "data": {
      "text/html": [
       "<div>\n",
       "<style scoped>\n",
       "    .dataframe tbody tr th:only-of-type {\n",
       "        vertical-align: middle;\n",
       "    }\n",
       "\n",
       "    .dataframe tbody tr th {\n",
       "        vertical-align: top;\n",
       "    }\n",
       "\n",
       "    .dataframe thead th {\n",
       "        text-align: right;\n",
       "    }\n",
       "</style>\n",
       "<table border=\"1\" class=\"dataframe\">\n",
       "  <thead>\n",
       "    <tr style=\"text-align: right;\">\n",
       "      <th></th>\n",
       "      <th>title</th>\n",
       "      <th>link</th>\n",
       "      <th>domain</th>\n",
       "      <th>published_date</th>\n",
       "      <th>topic</th>\n",
       "    </tr>\n",
       "  </thead>\n",
       "  <tbody>\n",
       "    <tr>\n",
       "      <th>0</th>\n",
       "      <td>NSW remains on COVID-19 high alert | The Star | Newcastle, NSW</td>\n",
       "      <td>https://www.newcastlestar.com.au/story/6878465/nsw-remains-on-covid-19-high-alert/?cs=7</td>\n",
       "      <td>newcastlestar.com.au</td>\n",
       "      <td>2020-08-13 17:32:28</td>\n",
       "      <td>HEALTH</td>\n",
       "    </tr>\n",
       "    <tr>\n",
       "      <th>1</th>\n",
       "      <td>Missing people: How does someone just disappear?</td>\n",
       "      <td>https://www.bbc.co.uk/news/uk-england-cambridgeshire-53648599</td>\n",
       "      <td>bbc.co.uk</td>\n",
       "      <td>2020-08-04 15:56:20</td>\n",
       "      <td>NATION</td>\n",
       "    </tr>\n",
       "    <tr>\n",
       "      <th>2</th>\n",
       "      <td>An American Pickle review: In a dual role, Seth Rogen’s drama wins over comedy</td>\n",
       "      <td>https://www.polygon.com/2020/8/6/21357120/american-pickle-review-movie-seth-rogen-simon-rich-hbo-max</td>\n",
       "      <td>polygon.com</td>\n",
       "      <td>2020-08-06 15:58:22</td>\n",
       "      <td>ENTERTAINMENT</td>\n",
       "    </tr>\n",
       "    <tr>\n",
       "      <th>3</th>\n",
       "      <td>Katie Spotz to Run 130 Miles to Bring Clean Water to Tanzania, Shares Testimony of Change</td>\n",
       "      <td>http://www.christianitydaily.com/articles/9647/20200807/katie-spotz-run-130-miles-bring-clean-water-tanzania-shares.htm</td>\n",
       "      <td>christianitydaily.com</td>\n",
       "      <td>2020-08-07 19:45:00</td>\n",
       "      <td>NATION</td>\n",
       "    </tr>\n",
       "    <tr>\n",
       "      <th>4</th>\n",
       "      <td>CDC Director Says This Fall Could Be ‘the Worst’ We’ve Ever Had Thanks to COVID-19</td>\n",
       "      <td>https://www.self.com/story/worst-fall-ever-covid</td>\n",
       "      <td>self.com</td>\n",
       "      <td>2020-08-13 19:37:52</td>\n",
       "      <td>HEALTH</td>\n",
       "    </tr>\n",
       "    <tr>\n",
       "      <th>5</th>\n",
       "      <td>Free water and electricity may be counterproductive – Economist</td>\n",
       "      <td>https://www.ghanaweb.com/GhanaHomePage/NewsArchive/Free-water-and-electricity-may-be-counterproductive-Economist-1031098</td>\n",
       "      <td>ghanaweb.com</td>\n",
       "      <td>2020-08-11 13:25:37</td>\n",
       "      <td>NATION</td>\n",
       "    </tr>\n",
       "    <tr>\n",
       "      <th>6</th>\n",
       "      <td>State places Tazewell County on COVID-19 warning list</td>\n",
       "      <td>https://week.com/2020/08/07/state-places-tazewell-county-on-covid-19-warning-list/</td>\n",
       "      <td>week.com</td>\n",
       "      <td>2020-08-07 18:00:24</td>\n",
       "      <td>HEALTH</td>\n",
       "    </tr>\n",
       "    <tr>\n",
       "      <th>7</th>\n",
       "      <td>Over 100 people quarantined in Mississippi school district after several test positive for coronavirus</td>\n",
       "      <td>https://www.nbcnews.com/news/us-news/over-100-people-quarantined-mississippi-school-district-after-several-test-n1236012</td>\n",
       "      <td>nbcnews.com</td>\n",
       "      <td>2020-08-06 16:35:00</td>\n",
       "      <td>NATION</td>\n",
       "    </tr>\n",
       "    <tr>\n",
       "      <th>8</th>\n",
       "      <td>How global warming is wiping out Africa's oldest baobab trees</td>\n",
       "      <td>http://www.capetalk.co.za/articles/307750/how-global-warming-is-wiping-out-africa-s-oldest-baobab-trees</td>\n",
       "      <td>capetalk.co.za</td>\n",
       "      <td>2018-06-14 12:00:53</td>\n",
       "      <td>WORLD</td>\n",
       "    </tr>\n",
       "    <tr>\n",
       "      <th>9</th>\n",
       "      <td>Delay routine dental checkups, WHO urges, until COVID risk is known</td>\n",
       "      <td>https://www.thepeninsulaqatar.com/article/11/08/2020/Delay-routine-dental-checkups,-WHO-urges,-until-COVID-risk-is-known</td>\n",
       "      <td>thepeninsulaqatar.com</td>\n",
       "      <td>2020-08-11 17:13:00</td>\n",
       "      <td>HEALTH</td>\n",
       "    </tr>\n",
       "  </tbody>\n",
       "</table>\n",
       "</div>"
      ],
      "text/plain": [
       "                                                                                                    title  \\\n",
       "0                                          NSW remains on COVID-19 high alert | The Star | Newcastle, NSW   \n",
       "1                                                        Missing people: How does someone just disappear?   \n",
       "2                          An American Pickle review: In a dual role, Seth Rogen’s drama wins over comedy   \n",
       "3               Katie Spotz to Run 130 Miles to Bring Clean Water to Tanzania, Shares Testimony of Change   \n",
       "4                      CDC Director Says This Fall Could Be ‘the Worst’ We’ve Ever Had Thanks to COVID-19   \n",
       "5                                         Free water and electricity may be counterproductive – Economist   \n",
       "6                                                   State places Tazewell County on COVID-19 warning list   \n",
       "7  Over 100 people quarantined in Mississippi school district after several test positive for coronavirus   \n",
       "8                                           How global warming is wiping out Africa's oldest baobab trees   \n",
       "9                                     Delay routine dental checkups, WHO urges, until COVID risk is known   \n",
       "\n",
       "                                                                                                                       link  \\\n",
       "0                                   https://www.newcastlestar.com.au/story/6878465/nsw-remains-on-covid-19-high-alert/?cs=7   \n",
       "1                                                             https://www.bbc.co.uk/news/uk-england-cambridgeshire-53648599   \n",
       "2                      https://www.polygon.com/2020/8/6/21357120/american-pickle-review-movie-seth-rogen-simon-rich-hbo-max   \n",
       "3   http://www.christianitydaily.com/articles/9647/20200807/katie-spotz-run-130-miles-bring-clean-water-tanzania-shares.htm   \n",
       "4                                                                          https://www.self.com/story/worst-fall-ever-covid   \n",
       "5  https://www.ghanaweb.com/GhanaHomePage/NewsArchive/Free-water-and-electricity-may-be-counterproductive-Economist-1031098   \n",
       "6                                        https://week.com/2020/08/07/state-places-tazewell-county-on-covid-19-warning-list/   \n",
       "7  https://www.nbcnews.com/news/us-news/over-100-people-quarantined-mississippi-school-district-after-several-test-n1236012   \n",
       "8                   http://www.capetalk.co.za/articles/307750/how-global-warming-is-wiping-out-africa-s-oldest-baobab-trees   \n",
       "9  https://www.thepeninsulaqatar.com/article/11/08/2020/Delay-routine-dental-checkups,-WHO-urges,-until-COVID-risk-is-known   \n",
       "\n",
       "                  domain       published_date          topic  \n",
       "0   newcastlestar.com.au  2020-08-13 17:32:28         HEALTH  \n",
       "1              bbc.co.uk  2020-08-04 15:56:20         NATION  \n",
       "2            polygon.com  2020-08-06 15:58:22  ENTERTAINMENT  \n",
       "3  christianitydaily.com  2020-08-07 19:45:00         NATION  \n",
       "4               self.com  2020-08-13 19:37:52         HEALTH  \n",
       "5           ghanaweb.com  2020-08-11 13:25:37         NATION  \n",
       "6               week.com  2020-08-07 18:00:24         HEALTH  \n",
       "7            nbcnews.com  2020-08-06 16:35:00         NATION  \n",
       "8         capetalk.co.za  2018-06-14 12:00:53          WORLD  \n",
       "9  thepeninsulaqatar.com  2020-08-11 17:13:00         HEALTH  "
      ]
     },
     "execution_count": 101,
     "metadata": {},
     "output_type": "execute_result"
    }
   ],
   "source": [
    "# Set the column width so you can see the entire length of the `title` column\n",
    "pd.set_option('display.max_colwidth', None)\n",
    "\n",
    "# Load the datasets into dataframes\n",
    "train_df = pd.read_csv(f'{data_dir}/train_data.csv')\n",
    "test_df = pd.read_csv(f'{data_dir}/test_data.csv')\n",
    "\n",
    "# Preview the first 10 rows of the training set\n",
    "train_df[:10]"
   ]
  },
  {
   "cell_type": "code",
   "execution_count": 102,
   "metadata": {},
   "outputs": [
    {
     "data": {
      "text/html": [
       "<div>\n",
       "<style scoped>\n",
       "    .dataframe tbody tr th:only-of-type {\n",
       "        vertical-align: middle;\n",
       "    }\n",
       "\n",
       "    .dataframe tbody tr th {\n",
       "        vertical-align: top;\n",
       "    }\n",
       "\n",
       "    .dataframe thead th {\n",
       "        text-align: right;\n",
       "    }\n",
       "</style>\n",
       "<table border=\"1\" class=\"dataframe\">\n",
       "  <thead>\n",
       "    <tr style=\"text-align: right;\">\n",
       "      <th></th>\n",
       "      <th>title</th>\n",
       "      <th>topic</th>\n",
       "    </tr>\n",
       "  </thead>\n",
       "  <tbody>\n",
       "    <tr>\n",
       "      <th>0</th>\n",
       "      <td>NSW remains on COVID-19 high alert | The Star | Newcastle, NSW</td>\n",
       "      <td>HEALTH</td>\n",
       "    </tr>\n",
       "    <tr>\n",
       "      <th>1</th>\n",
       "      <td>Missing people: How does someone just disappear?</td>\n",
       "      <td>NATION</td>\n",
       "    </tr>\n",
       "    <tr>\n",
       "      <th>2</th>\n",
       "      <td>An American Pickle review: In a dual role, Seth Rogen’s drama wins over comedy</td>\n",
       "      <td>ENTERTAINMENT</td>\n",
       "    </tr>\n",
       "    <tr>\n",
       "      <th>3</th>\n",
       "      <td>Katie Spotz to Run 130 Miles to Bring Clean Water to Tanzania, Shares Testimony of Change</td>\n",
       "      <td>NATION</td>\n",
       "    </tr>\n",
       "    <tr>\n",
       "      <th>4</th>\n",
       "      <td>CDC Director Says This Fall Could Be ‘the Worst’ We’ve Ever Had Thanks to COVID-19</td>\n",
       "      <td>HEALTH</td>\n",
       "    </tr>\n",
       "    <tr>\n",
       "      <th>...</th>\n",
       "      <td>...</td>\n",
       "      <td>...</td>\n",
       "    </tr>\n",
       "    <tr>\n",
       "      <th>84370</th>\n",
       "      <td>Apple fires back at Epic: ‘We won’t make an exception’</td>\n",
       "      <td>TECHNOLOGY</td>\n",
       "    </tr>\n",
       "    <tr>\n",
       "      <th>84371</th>\n",
       "      <td>Actress Jessica Marais mourns loss of mother Karen</td>\n",
       "      <td>ENTERTAINMENT</td>\n",
       "    </tr>\n",
       "    <tr>\n",
       "      <th>84372</th>\n",
       "      <td>Google delays Chrome web apps drop-dead date until mid-2022</td>\n",
       "      <td>TECHNOLOGY</td>\n",
       "    </tr>\n",
       "    <tr>\n",
       "      <th>84373</th>\n",
       "      <td>Liverpool evening headlines as Firmino scouted by Barcelona legend, Fabinho hails special success</td>\n",
       "      <td>SPORTS</td>\n",
       "    </tr>\n",
       "    <tr>\n",
       "      <th>84374</th>\n",
       "      <td>Asus Preps Huge 4K HDMI 2.1 Monitor in Time for PS5, Xbox Series X</td>\n",
       "      <td>TECHNOLOGY</td>\n",
       "    </tr>\n",
       "  </tbody>\n",
       "</table>\n",
       "<p>84375 rows × 2 columns</p>\n",
       "</div>"
      ],
      "text/plain": [
       "                                                                                                   title  \\\n",
       "0                                         NSW remains on COVID-19 high alert | The Star | Newcastle, NSW   \n",
       "1                                                       Missing people: How does someone just disappear?   \n",
       "2                         An American Pickle review: In a dual role, Seth Rogen’s drama wins over comedy   \n",
       "3              Katie Spotz to Run 130 Miles to Bring Clean Water to Tanzania, Shares Testimony of Change   \n",
       "4                     CDC Director Says This Fall Could Be ‘the Worst’ We’ve Ever Had Thanks to COVID-19   \n",
       "...                                                                                                  ...   \n",
       "84370                                             Apple fires back at Epic: ‘We won’t make an exception’   \n",
       "84371                                                 Actress Jessica Marais mourns loss of mother Karen   \n",
       "84372                                        Google delays Chrome web apps drop-dead date until mid-2022   \n",
       "84373  Liverpool evening headlines as Firmino scouted by Barcelona legend, Fabinho hails special success   \n",
       "84374                                 Asus Preps Huge 4K HDMI 2.1 Monitor in Time for PS5, Xbox Series X   \n",
       "\n",
       "               topic  \n",
       "0             HEALTH  \n",
       "1             NATION  \n",
       "2      ENTERTAINMENT  \n",
       "3             NATION  \n",
       "4             HEALTH  \n",
       "...              ...  \n",
       "84370     TECHNOLOGY  \n",
       "84371  ENTERTAINMENT  \n",
       "84372     TECHNOLOGY  \n",
       "84373         SPORTS  \n",
       "84374     TECHNOLOGY  \n",
       "\n",
       "[84375 rows x 2 columns]"
      ]
     },
     "execution_count": 102,
     "metadata": {},
     "output_type": "execute_result"
    }
   ],
   "source": [
    "train_df[['title', 'topic']]"
   ]
  },
  {
   "cell_type": "code",
   "execution_count": 103,
   "metadata": {},
   "outputs": [
    {
     "name": "stdout",
     "output_type": "stream",
     "text": [
      "Model: \"sequential_1\"\n",
      "_________________________________________________________________\n",
      " Layer (type)                Output Shape              Param #   \n",
      "=================================================================\n",
      " embedding_1 (Embedding)     (None, 20, 24)            240000    \n",
      "                                                                 \n",
      " dense_2 (Dense)             (None, 20, 24)            600       \n",
      "                                                                 \n",
      " flatten_1 (Flatten)         (None, 480)               0         \n",
      "                                                                 \n",
      " dense_3 (Dense)             (None, 8)                 3848      \n",
      "                                                                 \n",
      "=================================================================\n",
      "Total params: 244448 (954.88 KB)\n",
      "Trainable params: 244448 (954.88 KB)\n",
      "Non-trainable params: 0 (0.00 Byte)\n",
      "_________________________________________________________________\n"
     ]
    }
   ],
   "source": [
    "# Load the model\n",
    "model = tf.keras.models.load_model(model_dir)\n",
    "\n",
    "# Show the model architecture\n",
    "model.summary()"
   ]
  },
  {
   "cell_type": "code",
   "execution_count": 104,
   "metadata": {},
   "outputs": [
    {
     "data": {
      "text/plain": [
       "{'optimizer': {'module': 'keras.optimizers',\n",
       "  'class_name': 'Adam',\n",
       "  'config': {'name': 'Adam',\n",
       "   'weight_decay': None,\n",
       "   'clipnorm': None,\n",
       "   'global_clipnorm': None,\n",
       "   'clipvalue': None,\n",
       "   'use_ema': False,\n",
       "   'ema_momentum': 0.99,\n",
       "   'ema_overwrite_frequency': None,\n",
       "   'jit_compile': False,\n",
       "   'is_legacy_optimizer': False,\n",
       "   'learning_rate': 0.0010000000474974513,\n",
       "   'beta_1': 0.9,\n",
       "   'beta_2': 0.999,\n",
       "   'epsilon': 1e-07,\n",
       "   'amsgrad': False},\n",
       "  'registered_name': None},\n",
       " 'loss': {'module': 'builtins',\n",
       "  'class_name': 'function',\n",
       "  'config': 'sparse_categorical_crossentropy',\n",
       "  'registered_name': 'function'},\n",
       " 'metrics': [[{'module': 'keras.metrics',\n",
       "    'class_name': 'MeanMetricWrapper',\n",
       "    'config': {'name': 'sparse_categorical_accuracy',\n",
       "     'dtype': 'float32',\n",
       "     'fn': {'module': 'builtins',\n",
       "      'class_name': 'function',\n",
       "      'config': 'sparse_categorical_accuracy',\n",
       "      'registered_name': 'function'}},\n",
       "    'registered_name': None}]],\n",
       " 'loss_weights': None,\n",
       " 'weighted_metrics': None,\n",
       " 'run_eagerly': None,\n",
       " 'steps_per_execution': None,\n",
       " 'jit_compile': None}"
      ]
     },
     "execution_count": 104,
     "metadata": {},
     "output_type": "execute_result"
    }
   ],
   "source": [
    "model.get_compile_config()"
   ]
  },
  {
   "cell_type": "code",
   "execution_count": 105,
   "metadata": {},
   "outputs": [
    {
     "data": {
      "text/plain": [
       "['ENTERTAINMENT',\n",
       " 'HEALTH',\n",
       " 'TECHNOLOGY',\n",
       " 'WORLD',\n",
       " 'BUSINESS',\n",
       " 'SPORTS',\n",
       " 'NATION',\n",
       " 'SCIENCE']"
      ]
     },
     "execution_count": 105,
     "metadata": {},
     "output_type": "execute_result"
    }
   ],
   "source": [
    "# Create a lookup list for the labels\n",
    "topic_lookup = tf.keras.layers.StringLookup(vocabulary=f'{vocab_dir}/labels.txt', num_oov_indices=0)\n",
    "\n",
    "# Check the list of labels\n",
    "topic_lookup.get_vocabulary()"
   ]
  },
  {
   "cell_type": "code",
   "execution_count": 106,
   "metadata": {},
   "outputs": [
    {
     "name": "stdout",
     "output_type": "stream",
     "text": [
      "Vocabulary size: 10000\n",
      "Sample text: Dengue fever cases in Laos rise to 4256\n",
      "Sample text (preprocessed): [4040 1979   30    2 9339  282    3    1    0    0    0    0    0    0\n",
      "    0    0    0    0    0    0]\n"
     ]
    }
   ],
   "source": [
    "import tensorflow as tf\n",
    "import pandas as pd\n",
    "\n",
    "\n",
    "# Title length and vocabulary size used by the team for the prototype\n",
    "MAX_LENGTH = 20\n",
    "VOCAB_SIZE = 10000\n",
    "\n",
    "# Instantiate a layer for text preprocessing\n",
    "title_preprocessor = tf.keras.layers.TextVectorization(max_tokens=VOCAB_SIZE, output_sequence_length=MAX_LENGTH)\n",
    "\n",
    "# Load the vocabulary file\n",
    "vocab_path = f'{vocab_dir}/vocabulary.txt'\n",
    "with open(vocab_path, 'r', encoding='utf-8') as file:\n",
    "    vocab = [line.strip() for line in file]\n",
    "\n",
    "# Set the vocabulary for the TextVectorization layer\n",
    "title_preprocessor.set_vocabulary(vocab)\n",
    "\n",
    "# Check the vocabulary size\n",
    "print(f'Vocabulary size: {title_preprocessor.vocabulary_size()}')\n",
    "\n",
    "# Get a sample title\n",
    "sample_title = train_df['title'][10]\n",
    "\n",
    "# Sample title in string format\n",
    "print(f\"Sample text: {sample_title}\")\n",
    "\n",
    "# Sample title represented as an integer sequence\n",
    "print(f\"Sample text (preprocessed): {title_preprocessor(sample_title).numpy()}\")\n"
   ]
  },
  {
   "cell_type": "code",
   "execution_count": 107,
   "metadata": {},
   "outputs": [
    {
     "name": "stdout",
     "output_type": "stream",
     "text": [
      "763/763 [==============================] - 2s 2ms/step - loss: 1.0202 - sparse_categorical_accuracy: 0.7778\n"
     ]
    },
    {
     "data": {
      "text/plain": [
       "[1.0201756954193115, 0.7778187394142151]"
      ]
     },
     "execution_count": 107,
     "metadata": {},
     "output_type": "execute_result"
    }
   ],
   "source": [
    "# Convert the test dataframe to a tf dataset\n",
    "test_ds = lab_utils.df_to_tfdata(test_df, topic_lookup, title_preprocessor)\n",
    "\n",
    "# Get the metrics\n",
    "model.evaluate(test_ds)"
   ]
  },
  {
   "cell_type": "code",
   "execution_count": 108,
   "metadata": {},
   "outputs": [
    {
     "data": {
      "text/plain": [
       "topic\n",
       "BUSINESS         13.2%\n",
       "ENTERTAINMENT    14.1%\n",
       "HEALTH           15.1%\n",
       "NATION           13.2%\n",
       "SCIENCE           0.7%\n",
       "SPORTS           13.6%\n",
       "TECHNOLOGY       15.3%\n",
       "WORLD            14.8%\n",
       "Name: proportion, dtype: object"
      ]
     },
     "execution_count": 108,
     "metadata": {},
     "output_type": "execute_result"
    }
   ],
   "source": [
    "# Print the percentage of each class in the train set\n",
    "train_df.topic.value_counts(normalize=True).sort_index().mul(100).round(1).astype(str) + '%'"
   ]
  },
  {
   "cell_type": "code",
   "execution_count": 109,
   "metadata": {},
   "outputs": [
    {
     "data": {
      "text/plain": [
       "topic\n",
       "BUSINESS         15.9%\n",
       "ENTERTAINMENT    12.7%\n",
       "HEALTH            9.3%\n",
       "NATION           15.9%\n",
       "SCIENCE          13.2%\n",
       "SPORTS           14.3%\n",
       "TECHNOLOGY        8.6%\n",
       "WORLD            10.1%\n",
       "Name: proportion, dtype: object"
      ]
     },
     "execution_count": 109,
     "metadata": {},
     "output_type": "execute_result"
    }
   ],
   "source": [
    "# Print the percentage of each class in the test set\n",
    "test_df.topic.value_counts(normalize=True).sort_index().mul(100).round(1).astype(str) + '%'"
   ]
  },
  {
   "cell_type": "code",
   "execution_count": 110,
   "metadata": {},
   "outputs": [],
   "source": [
    "# Load the train and test sets\n",
    "train_df = pd.read_csv(f'{data_dir}/train_data.csv')\n",
    "test_df = pd.read_csv(f'{data_dir}/test_data.csv')\n",
    "\n",
    "# Combine the two datasets. Set ignore_index to False.\n",
    "combined_df = pd.concat([train_df,test_df], ignore_index=True)\n",
    "\n",
    "train_df, test_df = train_test_split(combined_df, test_size=0.2, stratify=combined_df['topic'])\n",
    "train_df, dev_df = train_test_split(train_df, test_size=0.25, stratify=train_df['topic'])"
   ]
  },
  {
   "cell_type": "code",
   "execution_count": 111,
   "metadata": {},
   "outputs": [
    {
     "data": {
      "text/plain": [
       "topic\n",
       "BUSINESS         13.8%\n",
       "ENTERTAINMENT    13.8%\n",
       "HEALTH           13.8%\n",
       "NATION           13.8%\n",
       "SCIENCE           3.5%\n",
       "SPORTS           13.8%\n",
       "TECHNOLOGY       13.8%\n",
       "WORLD            13.8%\n",
       "Name: proportion, dtype: object"
      ]
     },
     "execution_count": 111,
     "metadata": {},
     "output_type": "execute_result"
    }
   ],
   "source": [
    "train_df.topic.value_counts(normalize=True).sort_index().mul(100).round(1).astype(str) + '%'"
   ]
  },
  {
   "cell_type": "code",
   "execution_count": 112,
   "metadata": {},
   "outputs": [
    {
     "data": {
      "text/plain": [
       "topic\n",
       "BUSINESS         13.8%\n",
       "ENTERTAINMENT    13.8%\n",
       "HEALTH           13.8%\n",
       "NATION           13.8%\n",
       "SCIENCE           3.5%\n",
       "SPORTS           13.8%\n",
       "TECHNOLOGY       13.8%\n",
       "WORLD            13.8%\n",
       "Name: proportion, dtype: object"
      ]
     },
     "execution_count": 112,
     "metadata": {},
     "output_type": "execute_result"
    }
   ],
   "source": [
    "dev_df.topic.value_counts(normalize=True).sort_index().mul(100).round(1).astype(str) + '%'\n"
   ]
  },
  {
   "cell_type": "code",
   "execution_count": 113,
   "metadata": {},
   "outputs": [
    {
     "data": {
      "text/plain": [
       "topic\n",
       "BUSINESS         13.8%\n",
       "ENTERTAINMENT    13.8%\n",
       "HEALTH           13.8%\n",
       "NATION           13.8%\n",
       "SCIENCE           3.5%\n",
       "SPORTS           13.8%\n",
       "TECHNOLOGY       13.8%\n",
       "WORLD            13.8%\n",
       "Name: proportion, dtype: object"
      ]
     },
     "execution_count": 113,
     "metadata": {},
     "output_type": "execute_result"
    }
   ],
   "source": [
    "test_df.topic.value_counts(normalize=True).sort_index().mul(100).round(1).astype(str) + '%'"
   ]
  },
  {
   "cell_type": "code",
   "execution_count": 114,
   "metadata": {},
   "outputs": [],
   "source": [
    "# Set the base directory for the second experiment\n",
    "BASE_DIR = './E2'\n",
    "\n",
    "# Set the subdirectories that will contain the experiment files\n",
    "data_dir, model_dir, vocab_dir = lab_utils.set_experiment_dirs(BASE_DIR)\n",
    "\n",
    "# Save the datasets\n",
    "lab_utils.save_data(train_df, data_dir, 'train_data.csv')\n",
    "lab_utils.save_data(dev_df, data_dir, 'dev_data.csv')\n",
    "lab_utils.save_data(test_df, data_dir, 'test_data.csv')\n",
    "\n",
    "# Save the labels\n",
    "lab_utils.save_labels(topic_lookup, vocab_dir)"
   ]
  },
  {
   "cell_type": "code",
   "execution_count": 115,
   "metadata": {},
   "outputs": [],
   "source": [
    "# Extract the titles from the new training set\n",
    "import importlib\n",
    "\n",
    "\n",
    "train_inputs = train_df['title']\n",
    "\n",
    "# Generate a new vocabulary\n",
    "title_preprocessor.adapt(train_inputs)\n",
    "# importlib.reload(lab_utils)\n",
    "# Save the new vocabulary\n",
    "lab_utils.save_vocab_manually(title_preprocessor, vocab_dir)"
   ]
  },
  {
   "cell_type": "code",
   "execution_count": 116,
   "metadata": {},
   "outputs": [
    {
     "name": "stdout",
     "output_type": "stream",
     "text": [
      "Epoch 1/5\n"
     ]
    },
    {
     "name": "stderr",
     "output_type": "stream",
     "text": [
      "i:\\ML_Projects\\AI_Based_News_Classifier\\.venv\\lib\\site-packages\\keras\\src\\initializers\\initializers.py:120: UserWarning: The initializer RandomUniform is unseeded and being called multiple times, which will return identical values each time (even if the initializer is unseeded). Please update your code to provide a seed to the initializer, or avoid using the same initializer instance more than once.\n",
      "  warnings.warn(\n",
      "i:\\ML_Projects\\AI_Based_News_Classifier\\.venv\\lib\\site-packages\\keras\\src\\initializers\\initializers.py:120: UserWarning: The initializer GlorotUniform is unseeded and being called multiple times, which will return identical values each time (even if the initializer is unseeded). Please update your code to provide a seed to the initializer, or avoid using the same initializer instance more than once.\n",
      "  warnings.warn(\n"
     ]
    },
    {
     "name": "stdout",
     "output_type": "stream",
     "text": [
      "2040/2040 [==============================] - 11s 5ms/step - loss: 0.8642 - sparse_categorical_accuracy: 0.6868 - val_loss: 0.5538 - val_sparse_categorical_accuracy: 0.8090\n",
      "Epoch 2/5\n",
      "2040/2040 [==============================] - 9s 4ms/step - loss: 0.4359 - sparse_categorical_accuracy: 0.8497 - val_loss: 0.5261 - val_sparse_categorical_accuracy: 0.8208\n",
      "Epoch 3/5\n",
      "2040/2040 [==============================] - 11s 5ms/step - loss: 0.3469 - sparse_categorical_accuracy: 0.8813 - val_loss: 0.5522 - val_sparse_categorical_accuracy: 0.8184\n",
      "Epoch 4/5\n",
      "2040/2040 [==============================] - 9s 4ms/step - loss: 0.2872 - sparse_categorical_accuracy: 0.9028 - val_loss: 0.5975 - val_sparse_categorical_accuracy: 0.8155\n",
      "Epoch 5/5\n",
      "2040/2040 [==============================] - 9s 4ms/step - loss: 0.2372 - sparse_categorical_accuracy: 0.9217 - val_loss: 0.6520 - val_sparse_categorical_accuracy: 0.8093\n"
     ]
    },
    {
     "data": {
      "text/plain": [
       "<keras.src.callbacks.History at 0x193156bca60>"
      ]
     },
     "execution_count": 116,
     "metadata": {},
     "output_type": "execute_result"
    }
   ],
   "source": [
    "NUM_EPOCHS = 5\n",
    "\n",
    "# Convert the string datasets to Tensorflow datasets\n",
    "train_ds = lab_utils.df_to_tfdata(train_df, topic_lookup, title_preprocessor, shuffle=True)\n",
    "dev_ds = lab_utils.df_to_tfdata(dev_df, topic_lookup, title_preprocessor)\n",
    "test_ds = lab_utils.df_to_tfdata(test_df, topic_lookup, title_preprocessor)\n",
    "\n",
    "# Reset the model weights\n",
    "model = lab_utils.model_reset_weights(model)\n",
    "\n",
    "# Train the model. Use the dev set to check if your model is overfitting.\n",
    "model.fit(train_ds, epochs=NUM_EPOCHS, validation_data=dev_ds, verbose=1)"
   ]
  },
  {
   "cell_type": "code",
   "execution_count": 117,
   "metadata": {},
   "outputs": [
    {
     "name": "stdout",
     "output_type": "stream",
     "text": [
      "680/680 [==============================] - 1s 2ms/step - loss: 0.6568 - sparse_categorical_accuracy: 0.8100\n"
     ]
    },
    {
     "data": {
      "text/plain": [
       "[0.6568235754966736, 0.8100206851959229]"
      ]
     },
     "execution_count": 117,
     "metadata": {},
     "output_type": "execute_result"
    }
   ],
   "source": [
    "# Compute the loss and metrics\n",
    "model.evaluate(test_ds)"
   ]
  },
  {
   "cell_type": "code",
   "execution_count": 118,
   "metadata": {},
   "outputs": [
    {
     "name": "stdout",
     "output_type": "stream",
     "text": [
      "INFO:tensorflow:Assets written to: ./E2/model\\assets\n"
     ]
    },
    {
     "name": "stderr",
     "output_type": "stream",
     "text": [
      "INFO:tensorflow:Assets written to: ./E2/model\\assets\n"
     ]
    }
   ],
   "source": [
    "# Save the model\n",
    "model.save(model_dir)"
   ]
  },
  {
   "cell_type": "code",
   "execution_count": 119,
   "metadata": {},
   "outputs": [
    {
     "name": "stdout",
     "output_type": "stream",
     "text": [
      "ACCURACY PER TOPIC:\n",
      "\n",
      "ENTERTAINMENT: 82.30 \n",
      "HEALTH: 81.07 \n",
      "TECHNOLOGY: 86.20 \n",
      "WORLD: 65.13 \n",
      "BUSINESS: 100.00 \n",
      "SPORTS: 89.13 \n",
      "NATION: 63.77 \n",
      "SCIENCE: 76.69 \n"
     ]
    }
   ],
   "source": [
    "# Get the list of topics\n",
    "topics = topic_lookup.get_vocabulary()\n",
    "\n",
    "# Evaluate the model's performance for each topic\n",
    "lab_utils.print_metric_per_topic(dev_df, topics, topic_lookup, title_preprocessor, model)"
   ]
  },
  {
   "cell_type": "code",
   "execution_count": 120,
   "metadata": {},
   "outputs": [
    {
     "data": {
      "text/html": [
       "<div>\n",
       "<style scoped>\n",
       "    .dataframe tbody tr th:only-of-type {\n",
       "        vertical-align: middle;\n",
       "    }\n",
       "\n",
       "    .dataframe tbody tr th {\n",
       "        vertical-align: top;\n",
       "    }\n",
       "\n",
       "    .dataframe thead th {\n",
       "        text-align: right;\n",
       "    }\n",
       "</style>\n",
       "<table border=\"1\" class=\"dataframe\">\n",
       "  <thead>\n",
       "    <tr style=\"text-align: right;\">\n",
       "      <th></th>\n",
       "      <th>title</th>\n",
       "      <th>link</th>\n",
       "      <th>domain</th>\n",
       "      <th>published_date</th>\n",
       "      <th>topic</th>\n",
       "    </tr>\n",
       "  </thead>\n",
       "  <tbody>\n",
       "    <tr>\n",
       "      <th>88250</th>\n",
       "      <td>Why iPhone 12 Will Be Another 'Defining Chapter' In Apple's Growth Story</td>\n",
       "      <td>https://www.prolificnorth.co.uk/news/social-media-agency-news/2020/08/co-founders-steven-bartlett-and-dominic-mcgregor-leave-social</td>\n",
       "      <td>prolificnorth.co.uk</td>\n",
       "      <td>2020-08-17 11:15:10</td>\n",
       "      <td>BUSINESS</td>\n",
       "    </tr>\n",
       "    <tr>\n",
       "      <th>42951</th>\n",
       "      <td>Why iPhone 12 Will Be Another 'Defining Chapter' In Apple's Growth Story</td>\n",
       "      <td>https://asia.nikkei.com/Spotlight/Huawei-crackdown/New-US-sanctions-put-pressure-on-Huawei-s-private-sector-deals</td>\n",
       "      <td>asia.nikkei.com</td>\n",
       "      <td>2020-08-13 18:22:00</td>\n",
       "      <td>BUSINESS</td>\n",
       "    </tr>\n",
       "    <tr>\n",
       "      <th>37493</th>\n",
       "      <td>Why iPhone 12 Will Be Another 'Defining Chapter' In Apple's Growth Story</td>\n",
       "      <td>https://www.bworldonline.com/bsp-sees-no-reason-for-further-easing/</td>\n",
       "      <td>bworldonline.com</td>\n",
       "      <td>2020-08-10 20:09:02</td>\n",
       "      <td>BUSINESS</td>\n",
       "    </tr>\n",
       "    <tr>\n",
       "      <th>64634</th>\n",
       "      <td>Why iPhone 12 Will Be Another 'Defining Chapter' In Apple's Growth Story</td>\n",
       "      <td>https://www.npr.org/sections/coronavirus-live-updates/2020/08/14/901663621/midsummer-shopping-okay-despite-covid-spikes-july-retail-sales-rise-1-2</td>\n",
       "      <td>npr.org</td>\n",
       "      <td>2020-08-14 12:53:01</td>\n",
       "      <td>BUSINESS</td>\n",
       "    </tr>\n",
       "    <tr>\n",
       "      <th>36091</th>\n",
       "      <td>Why iPhone 12 Will Be Another 'Defining Chapter' In Apple's Growth Story</td>\n",
       "      <td>https://www.usatoday.com/story/news/weather/2020/08/17/california-death-valley-record-high-heatwave-blackouts/5598370002/?utm_source=feedblitz&amp;utm_medium=FeedBlitzRss&amp;utm_campaign=usatoday-newstopstories</td>\n",
       "      <td>rssfeeds.usatoday.com</td>\n",
       "      <td>2020-08-17 17:39:49</td>\n",
       "      <td>BUSINESS</td>\n",
       "    </tr>\n",
       "    <tr>\n",
       "      <th>...</th>\n",
       "      <td>...</td>\n",
       "      <td>...</td>\n",
       "      <td>...</td>\n",
       "      <td>...</td>\n",
       "      <td>...</td>\n",
       "    </tr>\n",
       "    <tr>\n",
       "      <th>82653</th>\n",
       "      <td>Why iPhone 12 Will Be Another 'Defining Chapter' In Apple's Growth Story</td>\n",
       "      <td>https://thepoultrysite.com/news/2020/08/philippines-suspends-poultry-imports-from-brazil-on-covid-19-worries</td>\n",
       "      <td>thepoultrysite.com</td>\n",
       "      <td>2020-08-17 07:03:37</td>\n",
       "      <td>BUSINESS</td>\n",
       "    </tr>\n",
       "    <tr>\n",
       "      <th>44554</th>\n",
       "      <td>Why iPhone 12 Will Be Another 'Defining Chapter' In Apple's Growth Story</td>\n",
       "      <td>https://www.globenewswire.com/news-release/2020/08/04/2072373/0/en/Global-Vanilla-Bean-Market-Insights-2020-2025-Production-Consumption-Trade-and-Price-Trend-Analysis.html</td>\n",
       "      <td>globenewswire.com</td>\n",
       "      <td>2020-08-04 11:43:00</td>\n",
       "      <td>BUSINESS</td>\n",
       "    </tr>\n",
       "    <tr>\n",
       "      <th>92203</th>\n",
       "      <td>Why iPhone 12 Will Be Another 'Defining Chapter' In Apple's Growth Story</td>\n",
       "      <td>https://www.bloombergquint.com/business/citi-s-900-million-blunder-raises-stakes-in-revlon-showdown</td>\n",
       "      <td>bloombergquint.com</td>\n",
       "      <td>2020-08-15 01:52:11</td>\n",
       "      <td>BUSINESS</td>\n",
       "    </tr>\n",
       "    <tr>\n",
       "      <th>52461</th>\n",
       "      <td>Why iPhone 12 Will Be Another 'Defining Chapter' In Apple's Growth Story</td>\n",
       "      <td>https://www.moneycontrol.com/news/business/nmdc-hikes-iron-ore-rates-by-rs-300-a-tonne-5689531.html</td>\n",
       "      <td>moneycontrol.com</td>\n",
       "      <td>2020-08-12 08:39:00</td>\n",
       "      <td>BUSINESS</td>\n",
       "    </tr>\n",
       "    <tr>\n",
       "      <th>33105</th>\n",
       "      <td>Why iPhone 12 Will Be Another 'Defining Chapter' In Apple's Growth Story</td>\n",
       "      <td>https://galusaustralis.com/2020/08/853827/residential-water-treatment-equipment-market-growing-demand-and-rising-trends-2020/</td>\n",
       "      <td>galusaustralis.com</td>\n",
       "      <td>2020-08-17 15:12:34</td>\n",
       "      <td>BUSINESS</td>\n",
       "    </tr>\n",
       "  </tbody>\n",
       "</table>\n",
       "<p>9000 rows × 5 columns</p>\n",
       "</div>"
      ],
      "text/plain": [
       "                                                                          title  \\\n",
       "88250  Why iPhone 12 Will Be Another 'Defining Chapter' In Apple's Growth Story   \n",
       "42951  Why iPhone 12 Will Be Another 'Defining Chapter' In Apple's Growth Story   \n",
       "37493  Why iPhone 12 Will Be Another 'Defining Chapter' In Apple's Growth Story   \n",
       "64634  Why iPhone 12 Will Be Another 'Defining Chapter' In Apple's Growth Story   \n",
       "36091  Why iPhone 12 Will Be Another 'Defining Chapter' In Apple's Growth Story   \n",
       "...                                                                         ...   \n",
       "82653  Why iPhone 12 Will Be Another 'Defining Chapter' In Apple's Growth Story   \n",
       "44554  Why iPhone 12 Will Be Another 'Defining Chapter' In Apple's Growth Story   \n",
       "92203  Why iPhone 12 Will Be Another 'Defining Chapter' In Apple's Growth Story   \n",
       "52461  Why iPhone 12 Will Be Another 'Defining Chapter' In Apple's Growth Story   \n",
       "33105  Why iPhone 12 Will Be Another 'Defining Chapter' In Apple's Growth Story   \n",
       "\n",
       "                                                                                                                                                                                                              link  \\\n",
       "88250                                                                          https://www.prolificnorth.co.uk/news/social-media-agency-news/2020/08/co-founders-steven-bartlett-and-dominic-mcgregor-leave-social   \n",
       "42951                                                                                            https://asia.nikkei.com/Spotlight/Huawei-crackdown/New-US-sanctions-put-pressure-on-Huawei-s-private-sector-deals   \n",
       "37493                                                                                                                                          https://www.bworldonline.com/bsp-sees-no-reason-for-further-easing/   \n",
       "64634                                                           https://www.npr.org/sections/coronavirus-live-updates/2020/08/14/901663621/midsummer-shopping-okay-despite-covid-spikes-july-retail-sales-rise-1-2   \n",
       "36091  https://www.usatoday.com/story/news/weather/2020/08/17/california-death-valley-record-high-heatwave-blackouts/5598370002/?utm_source=feedblitz&utm_medium=FeedBlitzRss&utm_campaign=usatoday-newstopstories   \n",
       "...                                                                                                                                                                                                            ...   \n",
       "82653                                                                                                 https://thepoultrysite.com/news/2020/08/philippines-suspends-poultry-imports-from-brazil-on-covid-19-worries   \n",
       "44554                                  https://www.globenewswire.com/news-release/2020/08/04/2072373/0/en/Global-Vanilla-Bean-Market-Insights-2020-2025-Production-Consumption-Trade-and-Price-Trend-Analysis.html   \n",
       "92203                                                                                                          https://www.bloombergquint.com/business/citi-s-900-million-blunder-raises-stakes-in-revlon-showdown   \n",
       "52461                                                                                                          https://www.moneycontrol.com/news/business/nmdc-hikes-iron-ore-rates-by-rs-300-a-tonne-5689531.html   \n",
       "33105                                                                                https://galusaustralis.com/2020/08/853827/residential-water-treatment-equipment-market-growing-demand-and-rising-trends-2020/   \n",
       "\n",
       "                      domain       published_date     topic  \n",
       "88250    prolificnorth.co.uk  2020-08-17 11:15:10  BUSINESS  \n",
       "42951        asia.nikkei.com  2020-08-13 18:22:00  BUSINESS  \n",
       "37493       bworldonline.com  2020-08-10 20:09:02  BUSINESS  \n",
       "64634                npr.org  2020-08-14 12:53:01  BUSINESS  \n",
       "36091  rssfeeds.usatoday.com  2020-08-17 17:39:49  BUSINESS  \n",
       "...                      ...                  ...       ...  \n",
       "82653     thepoultrysite.com  2020-08-17 07:03:37  BUSINESS  \n",
       "44554      globenewswire.com  2020-08-04 11:43:00  BUSINESS  \n",
       "92203     bloombergquint.com  2020-08-15 01:52:11  BUSINESS  \n",
       "52461       moneycontrol.com  2020-08-12 08:39:00  BUSINESS  \n",
       "33105     galusaustralis.com  2020-08-17 15:12:34  BUSINESS  \n",
       "\n",
       "[9000 rows x 5 columns]"
      ]
     },
     "execution_count": 120,
     "metadata": {},
     "output_type": "execute_result"
    }
   ],
   "source": [
    "train_df[train_df.topic=='BUSINESS']"
   ]
  },
  {
   "cell_type": "code",
   "execution_count": 121,
   "metadata": {},
   "outputs": [],
   "source": [
    "# Set the experiment folder\n",
    "BASE_DIR = './E3'\n",
    "\n",
    "# Set the subdirectories that will contain the experiment files\n",
    "data_dir, model_dir, vocab_dir = lab_utils.set_experiment_dirs(BASE_DIR)\n",
    "\n",
    "# Load the backup CSV\n",
    "combined_df = pd.read_csv(f'./backup.csv')\n",
    "\n",
    "# Generate train, dev, and test sets as you did before.\n",
    "train_df, test_df = train_test_split(combined_df, test_size=0.2, stratify=combined_df['topic'])\n",
    "train_df, dev_df = train_test_split(train_df, test_size=0.25, stratify=train_df['topic'])\n",
    "\n",
    "# Save the datasets under the E3 folder\n",
    "lab_utils.save_data(train_df, data_dir, 'train_data.csv')\n",
    "lab_utils.save_data(dev_df, data_dir, 'dev_data.csv')\n",
    "lab_utils.save_data(test_df, data_dir, 'test_data.csv')"
   ]
  },
  {
   "cell_type": "code",
   "execution_count": 122,
   "metadata": {},
   "outputs": [],
   "source": [
    "# Generate a new vocabulary based on the new training set\n",
    "train_inputs = train_df['title']\n",
    "title_preprocessor.adapt(train_inputs)\n",
    "\n",
    "# Save the new vocabulary and labels\n",
    "lab_utils.save_vocab_manually(title_preprocessor, vocab_dir)\n",
    "lab_utils.save_labels(topic_lookup, vocab_dir)\n",
    "\n"
   ]
  },
  {
   "cell_type": "code",
   "execution_count": 123,
   "metadata": {},
   "outputs": [
    {
     "name": "stdout",
     "output_type": "stream",
     "text": [
      "Epoch 1/5\n",
      "  38/2040 [..............................] - ETA: 8s - loss: 2.0632 - sparse_categorical_accuracy: 0.1423"
     ]
    },
    {
     "name": "stderr",
     "output_type": "stream",
     "text": [
      "i:\\ML_Projects\\AI_Based_News_Classifier\\.venv\\lib\\site-packages\\keras\\src\\initializers\\initializers.py:120: UserWarning: The initializer RandomUniform is unseeded and being called multiple times, which will return identical values each time (even if the initializer is unseeded). Please update your code to provide a seed to the initializer, or avoid using the same initializer instance more than once.\n",
      "  warnings.warn(\n",
      "i:\\ML_Projects\\AI_Based_News_Classifier\\.venv\\lib\\site-packages\\keras\\src\\initializers\\initializers.py:120: UserWarning: The initializer GlorotUniform is unseeded and being called multiple times, which will return identical values each time (even if the initializer is unseeded). Please update your code to provide a seed to the initializer, or avoid using the same initializer instance more than once.\n",
      "  warnings.warn(\n"
     ]
    },
    {
     "name": "stdout",
     "output_type": "stream",
     "text": [
      "2040/2040 [==============================] - 9s 4ms/step - loss: 1.3204 - sparse_categorical_accuracy: 0.5231 - val_loss: 0.8041 - val_sparse_categorical_accuracy: 0.7294\n",
      "Epoch 2/5\n",
      "2040/2040 [==============================] - 8s 4ms/step - loss: 0.6322 - sparse_categorical_accuracy: 0.7882 - val_loss: 0.7167 - val_sparse_categorical_accuracy: 0.7624\n",
      "Epoch 3/5\n",
      "2040/2040 [==============================] - 8s 4ms/step - loss: 0.4939 - sparse_categorical_accuracy: 0.8336 - val_loss: 0.7325 - val_sparse_categorical_accuracy: 0.7627\n",
      "Epoch 4/5\n",
      "2040/2040 [==============================] - 9s 4ms/step - loss: 0.4132 - sparse_categorical_accuracy: 0.8615 - val_loss: 0.7785 - val_sparse_categorical_accuracy: 0.7575\n",
      "Epoch 5/5\n",
      "2040/2040 [==============================] - 9s 4ms/step - loss: 0.3486 - sparse_categorical_accuracy: 0.8841 - val_loss: 0.8429 - val_sparse_categorical_accuracy: 0.7516\n"
     ]
    },
    {
     "data": {
      "text/plain": [
       "<keras.src.callbacks.History at 0x19316519730>"
      ]
     },
     "execution_count": 123,
     "metadata": {},
     "output_type": "execute_result"
    }
   ],
   "source": [
    "NUM_EPOCHS = 5\n",
    "\n",
    "# Convert the dataframes to numeric features. Remember to shuffle the training set.\n",
    "train_ds = lab_utils.df_to_tfdata(train_df, topic_lookup, title_preprocessor, shuffle=True)\n",
    "dev_ds = lab_utils.df_to_tfdata(dev_df, topic_lookup, title_preprocessor)\n",
    "test_ds = lab_utils.df_to_tfdata(test_df, topic_lookup, title_preprocessor)\n",
    "\n",
    "# Reset the model weights\n",
    "model = lab_utils.model_reset_weights(model)\n",
    "\n",
    "# Train the model\n",
    "model.fit(train_ds, epochs=NUM_EPOCHS, validation_data=dev_ds, verbose=1)"
   ]
  },
  {
   "cell_type": "code",
   "execution_count": 124,
   "metadata": {},
   "outputs": [
    {
     "name": "stdout",
     "output_type": "stream",
     "text": [
      "  1/680 [..............................] - ETA: 12s - loss: 1.0258 - sparse_categorical_accuracy: 0.7812"
     ]
    },
    {
     "name": "stdout",
     "output_type": "stream",
     "text": [
      "680/680 [==============================] - 1s 2ms/step - loss: 0.8481 - sparse_categorical_accuracy: 0.7505\n",
      "INFO:tensorflow:Assets written to: ./E3/model\\assets\n"
     ]
    },
    {
     "name": "stderr",
     "output_type": "stream",
     "text": [
      "INFO:tensorflow:Assets written to: ./E3/model\\assets\n"
     ]
    }
   ],
   "source": [
    "# Evaluate the model on the test set and write the results on the experiment tracker\n",
    "model.evaluate(test_ds)\n",
    "\n",
    "# Save the model to model_dir\n",
    "model.save(model_dir)"
   ]
  },
  {
   "cell_type": "code",
   "execution_count": 125,
   "metadata": {},
   "outputs": [
    {
     "name": "stdout",
     "output_type": "stream",
     "text": [
      "ACCURACY PER TOPIC:\n",
      "\n",
      "ENTERTAINMENT: 81.97 \n",
      "HEALTH: 76.37 \n",
      "TECHNOLOGY: 84.43 \n",
      "WORLD: 61.70 \n",
      "BUSINESS: 74.37 \n",
      "SPORTS: 88.33 \n",
      "NATION: 58.50 \n",
      "SCIENCE: 76.82 \n"
     ]
    }
   ],
   "source": [
    "lab_utils.print_metric_per_topic(dev_df, topics, topic_lookup, title_preprocessor, model)\n"
   ]
  },
  {
   "cell_type": "code",
   "execution_count": 126,
   "metadata": {},
   "outputs": [
    {
     "name": "stdout",
     "output_type": "stream",
     "text": [
      "label: WORLD\n",
      "prediction: NATION\n",
      "title: Queensland car-fire murders: Hannah Clarke told police of ordeal before death\n",
      "\n",
      "label: HEALTH\n",
      "prediction: NATION\n",
      "title: Infected family at centre of new cluster 'shell-shocked'\n",
      "\n",
      "label: WORLD\n",
      "prediction: NATION\n",
      "title: ECNEC approves $6.8bn for Pakistan Railways' ML-1 Project\n",
      "\n",
      "label: WORLD\n",
      "prediction: NATION\n",
      "title: Kerala Resident among Suicide Attackers Slain in Strike on Jail in Afghanistan’s Jalalabad\n",
      "\n",
      "label: HEALTH\n",
      "prediction: NATION\n",
      "title: California coronavirus case count tops 600,000 | TheHill\n",
      "\n",
      "label: HEALTH\n",
      "prediction: NATION\n",
      "title: Infertility: 621 medical experts advocate better management of endometriosis\n",
      "\n",
      "label: SPORTS\n",
      "prediction: NATION\n",
      "title: Gloucester City AFC \"heartbroken\" after break in at Meadow Park\n",
      "\n",
      "label: BUSINESS\n",
      "prediction: NATION\n",
      "title: Couple upset KiwiSaver funds can't be used to pay off debt\n",
      "\n",
      "label: ENTERTAINMENT\n",
      "prediction: NATION\n",
      "title: Call centre busted, Gurugram’s second in three days\n",
      "\n",
      "label: WORLD\n",
      "prediction: NATION\n",
      "title: Are Boris, Carrie and Wilfred going CAMPING? PM off to Scotland to 're-read story of Athens plague'\n",
      "\n",
      "label: SPORTS\n",
      "prediction: NATION\n",
      "title: Windies door not closed for Sammy insists Pollard\n",
      "\n",
      "label: WORLD\n",
      "prediction: NATION\n",
      "title: Pregnant women wrongly sent home on sick pay during pandemic, Labour says\n",
      "\n",
      "label: WORLD\n",
      "prediction: NATION\n",
      "title: Eight killed in Colombian coca-growing areaWorld\n",
      "\n",
      "label: BUSINESS\n",
      "prediction: NATION\n",
      "title: Scope for Deterioration in Systemic Risk Indicators Despite Stimulus\n",
      "\n",
      "label: WORLD\n",
      "prediction: NATION\n",
      "title: Court overturns damages awarded during High Court sex abuse case and calls for rehearing of evidence\n",
      "\n",
      "label: BUSINESS\n",
      "prediction: NATION\n",
      "title: Capital market operators: CIS President urges FG to jettison move to increase capital base\n",
      "\n",
      "label: HEALTH\n",
      "prediction: NATION\n",
      "title: COVID-19: Ottawa sees 19 new cases; Calypso throws in the towel for summer 2020\n",
      "\n",
      "label: SPORTS\n",
      "prediction: NATION\n",
      "title: Ross County 1-0 Motherwell - commentary\n",
      "\n",
      "label: WORLD\n",
      "prediction: NATION\n",
      "title: 60,000 Rioters in B’luru? ANI Airs Wrong Claim, Media Amplifies It\n",
      "\n",
      "label: HEALTH\n",
      "prediction: NATION\n",
      "title: Daniel Andrews confirms grand final public holiday WILL remain, despite lockdown\n",
      "\n"
     ]
    }
   ],
   "source": [
    "lab_utils.get_errors(model, dev_df, title_preprocessor, topic_lookup, 'NATION')"
   ]
  },
  {
   "cell_type": "code",
   "execution_count": 127,
   "metadata": {},
   "outputs": [
    {
     "name": "stdout",
     "output_type": "stream",
     "text": [
      "680/680 [==============================] - 1s 2ms/step - loss: 0.8429 - sparse_top_k_categorical_accuracy: 0.8811\n"
     ]
    },
    {
     "data": {
      "text/plain": [
       "[0.8428835272789001, 0.8810847997665405]"
      ]
     },
     "execution_count": 127,
     "metadata": {},
     "output_type": "execute_result"
    }
   ],
   "source": [
    "# Set the top-K accuracy to 2\n",
    "model.compile(loss='sparse_categorical_crossentropy',\n",
    "              optimizer='adam',\n",
    "              metrics=[tf.keras.metrics.SparseTopKCategoricalAccuracy(k=2)]             \n",
    "             )\n",
    "\n",
    "# Check the accuracy\n",
    "model.evaluate(dev_ds)"
   ]
  },
  {
   "cell_type": "code",
   "execution_count": 128,
   "metadata": {},
   "outputs": [
    {
     "name": "stdout",
     "output_type": "stream",
     "text": [
      "ACCURACY PER TOPIC:\n",
      "\n",
      "ENTERTAINMENT: 90.87 \n",
      "HEALTH: 88.67 \n",
      "TECHNOLOGY: 92.27 \n",
      "WORLD: 84.50 \n",
      "BUSINESS: 85.70 \n",
      "SPORTS: 92.83 \n",
      "NATION: 82.77 \n",
      "SCIENCE: 84.77 \n"
     ]
    }
   ],
   "source": [
    "# Print the accuracy per topic\n",
    "lab_utils.print_metric_per_topic(dev_df, topics, topic_lookup, title_preprocessor, model)"
   ]
  },
  {
   "cell_type": "code",
   "execution_count": null,
   "metadata": {},
   "outputs": [],
   "source": []
  }
 ],
 "metadata": {
  "kernelspec": {
   "display_name": "Python 3",
   "language": "python",
   "name": "python3"
  },
  "language_info": {
   "codemirror_mode": {
    "name": "ipython",
    "version": 3
   },
   "file_extension": ".py",
   "mimetype": "text/x-python",
   "name": "python",
   "nbconvert_exporter": "python",
   "pygments_lexer": "ipython3",
   "version": "3.9.13"
  }
 },
 "nbformat": 4,
 "nbformat_minor": 2
}
